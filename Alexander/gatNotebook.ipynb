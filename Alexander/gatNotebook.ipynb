{
 "cells": [
  {
   "cell_type": "code",
   "execution_count": 2,
   "id": "0e788c11",
   "metadata": {},
   "outputs": [
    {
     "name": "stderr",
     "output_type": "stream",
     "text": [
      "2025-04-16 13:55:26.873186: I tensorflow/core/platform/cpu_feature_guard.cc:210] This TensorFlow binary is optimized to use available CPU instructions in performance-critical operations.\n",
      "To enable the following instructions: AVX2 AVX512F AVX512_VNNI FMA, in other operations, rebuild TensorFlow with the appropriate compiler flags.\n"
     ]
    }
   ],
   "source": [
    "import tensorflow as tf\n",
    "from tensorflow import keras\n",
    "from tensorflow.keras import layers\n",
    "import numpy as np\n",
    "import pandas as pd\n",
    "import os\n",
    "import warnings\n",
    "import glob\n",
    "\n",
    "warnings.filterwarnings(\"ignore\")\n",
    "pd.set_option(\"display.max_columns\", 6)\n",
    "pd.set_option(\"display.max_rows\", 6)\n",
    "np.random.seed(2)"
   ]
  },
  {
   "cell_type": "markdown",
   "id": "ab9ca19b",
   "metadata": {},
   "source": [
    "## Load the data and process it"
   ]
  },
  {
   "cell_type": "code",
   "execution_count": 15,
   "id": "427efbf0",
   "metadata": {},
   "outputs": [
    {
     "name": "stdout",
     "output_type": "stream",
     "text": [
      "189\n",
      "Loaded 189 scenes.\n",
      "Train scenes: 132, Val scenes: 28, Test scenes: 29\n",
      "Training scenes: 132\n",
      "Validation scenes: 38\n",
      "Test scenes: 19\n"
     ]
    }
   ],
   "source": [
    "\"\"\"\n",
    "As in the tutorial, the provided dataset consists of two files for each traffic scene:\n",
    "\n",
    "<scene_id>.edges\n",
    "two columns containing node IDs\n",
    "target, source\n",
    "Note: The tutorial models directed edges with source -> target.\n",
    "You can either use undirected edges by changing the implementation or adding the missing entries to the edges file,\n",
    "e.g., to the line target, source, you add the line source target. If you want to be more fancy, you could also try to infer\n",
    "which other pedestrians the source node can see in their field of view and only add those (this would model that the movement\n",
    "decisions are based only on the pedestrians in the field of view.)\n",
    "<scene_id>.nodes\n",
    "seven columns with node properties and target values, which should be predicted \n",
    "node id, current x, current y, previous x, previous y, future x, future y\n",
    "the previous x and y represents the location of the pedestrian 1 second ago (you can use those values directly or infer the\n",
    "movement direction and some speed estimate yourself)\n",
    "the future x and y represents the target value, i.e., the location where the pedestrian will be in 1 second\n",
    "Note: Some pedestrians do not have a future x and y coordinate, so you need to filter those for prediction. However, you can\n",
    "still use their current and previous location when predicting the future location of other pedestrians.\n",
    "\"\"\"\n",
    "\"\"\"\n",
    "Sample data: \n",
    "file: dataset/13528908058.edges:\n",
    "contains data: target, source\n",
    "19585800, 19590700\n",
    "19585800, 19595200\n",
    "19585800, 20000100\n",
    "19590700, 19595200\n",
    "19590700, 20000100\n",
    "19591900, 19594200\n",
    "19591900, 19595300\n",
    "19591900, 19595800\n",
    "19592201, 19595800\n",
    "19592400, 20000200\n",
    "19592800, 20000200\n",
    "19592800, 20000300\n",
    "19594200, 19595300\n",
    "19594200, 19595800\n",
    "19595200, 20000100\n",
    "19595300, 19595800\n",
    "20000200, 20000300\n",
    "19502500, -1\n",
    "\n",
    "corresponding nodes file: \n",
    "file: dataset/13528908058.nodes\n",
    "contains data: node id, current x, current y, previous x, previous y, future x, future y\n",
    "19502500,40050.0,-16544.0,40176.0,-16619.0,40205.0,-16357.0\n",
    "19585800,16802.0,-11108.0,16140.0,-10573.0,17831.0,-11792.0\n",
    "19590700,16846.0,-10526.0,16079.0,-9694.0,17528.0,-11131.0\n",
    "19591900,11346.0,-6253.0,10833.0,-5840.0,12184.0,-6936.0\n",
    "19592201,14232.0,-8556.0,13610.0,-7856.0,14867.0,-9359.0\n",
    "19592400,5649.0,191.0,6542.0,-779.0,4809.0,1245.0\n",
    "19592800,9097.0,1278.0,9323.0,1412.0,9221.0,1551.0\n",
    "19594200,11262.0,-5387.0,10468.0,-4863.0,12387.0,-6358.0\n",
    "19595200,18425.0,-11390.0,17495.0,-10254.0,20034.0,-12398.0\n",
    "19595300,11060.0,-5800.0,10335.0,-5510.0,11890.0,-6411.0\n",
    "19595800,12432.0,-7962.0,_,_,12267.0,-7515.0\n",
    "20000100,18149.0,-10095.0,18159.0,-9697.0,17792.0,-10597.0\n",
    "20000200,7989.0,-70.0,7759.0,1511.0,8475.0,-1480.0\n",
    "20000300,8677.0,41.0,8353.0,1315.0,9280.0,-1068.0\n",
    "\"\"\" \n",
    "\n",
    "\"\"\"\n",
    "Sample data: \n",
    "file: dataset/13528908058.edges:\n",
    "contains data: target, source\n",
    "19585800, 19590700\n",
    "19585800, 19595200\n",
    "19585800, 20000100\n",
    "19590700, 19595200\n",
    "19590700, 20000100\n",
    "19591900, 19594200\n",
    "19591900, 19595300\n",
    "19591900, 19595800\n",
    "19592201, 19595800\n",
    "19592400, 20000200\n",
    "19592800, 20000200\n",
    "19592800, 20000300\n",
    "19594200, 19595300\n",
    "19594200, 19595800\n",
    "19595200, 20000100\n",
    "19595300, 19595800\n",
    "20000200, 20000300\n",
    "19502500, -1\n",
    "\n",
    "corresponding nodes file: \n",
    "file: dataset/13528908058.nodes\n",
    "contains data: node id, current x, current y, previous x, previous y, future x, future y\n",
    "19502500,40050.0,-16544.0,40176.0,-16619.0,40205.0,-16357.0\n",
    "19585800,16802.0,-11108.0,16140.0,-10573.0,17831.0,-11792.0\n",
    "19590700,16846.0,-10526.0,16079.0,-9694.0,17528.0,-11131.0\n",
    "19591900,11346.0,-6253.0,10833.0,-5840.0,12184.0,-6936.0\n",
    "19592201,14232.0,-8556.0,13610.0,-7856.0,14867.0,-9359.0\n",
    "19592400,5649.0,191.0,6542.0,-779.0,4809.0,1245.0\n",
    "19592800,9097.0,1278.0,9323.0,1412.0,9221.0,1551.0\n",
    "19594200,11262.0,-5387.0,10468.0,-4863.0,12387.0,-6358.0\n",
    "19595200,18425.0,-11390.0,17495.0,-10254.0,20034.0,-12398.0\n",
    "19595300,11060.0,-5800.0,10335.0,-5510.0,11890.0,-6411.0\n",
    "19595800,12432.0,-7962.0,_,_,12267.0,-7515.0\n",
    "20000100,18149.0,-10095.0,18159.0,-9697.0,17792.0,-10597.0\n",
    "20000200,7989.0,-70.0,7759.0,1511.0,8475.0,-1480.0\n",
    "20000300,8677.0,41.0,8353.0,1315.0,9280.0,-1068.0\n",
    "\"\"\" \n",
    "\n",
    "\n",
    "dataset_path = \"dataset/\"\n",
    "\n",
    "# Data loading functions\n",
    "def find_all_scene_ids(dataset_dir):\n",
    "    scene_ids = []\n",
    "    for file in os.listdir(dataset_dir):\n",
    "        if file.endswith(\".edges\"):\n",
    "            scene_id = file.split(\".\")[0]\n",
    "            scene_ids.append(scene_id)\n",
    "    return scene_ids\n",
    "\n",
    "\n",
    "def load_all_subgraphs(dataset_dir):\n",
    "    scene_ids = find_all_scene_ids(dataset_dir)\n",
    "    scenes = []\n",
    "    for scene_id in scene_ids:\n",
    "        edges_file = os.path.join(dataset_dir, f\"{scene_id}.edges\")\n",
    "        nodes_file = os.path.join(dataset_dir, f\"{scene_id}.nodes\")\n",
    "        if not os.path.exists(edges_file) or not os.path.exists(nodes_file):\n",
    "            print(f\"Skipping scene ID {scene_id}: Missing files.\")\n",
    "            continue\n",
    "\n",
    "        # Load edges and nodes.\n",
    "        edges = pd.read_csv(edges_file, sep=\",\", header=None, names=[\"target\", \"source\"])\n",
    "        nodes = pd.read_csv(\n",
    "            nodes_file,\n",
    "            sep=\",\",\n",
    "            header=None,\n",
    "            names=[\"node_id\", \"current_x\", \"current_y\", \"previous_x\", \"previous_y\", \"future_x\", \"future_y\"],\n",
    "        )\n",
    "        for col in nodes.columns:\n",
    "            nodes[col] = pd.to_numeric(nodes[col], errors=\"coerce\")\n",
    "        if nodes.isnull().any().any():\n",
    "            nan_nodes = nodes[nodes.isnull().any(axis=1)]\n",
    "            nan_node_ids = nan_nodes[\"node_id\"].tolist()\n",
    "            #print(f\"Scene {scene_id}: Filtering {len(nan_node_ids)} nodes with NaN values.\")\n",
    "            edges = edges[~edges[\"source\"].isin(nan_node_ids) & ~edges[\"target\"].isin(nan_node_ids)]\n",
    "            nodes = nodes.dropna(subset=[\"future_x\", \"future_y\"])\n",
    "        if (edges[\"source\"] == -1).any() or (edges[\"target\"] == -1).any():\n",
    "            #print(f\"Scene {scene_id} contains -1 edges. Removing these edges.\")\n",
    "            edges = edges[(edges[\"source\"] != -1) & (edges[\"target\"] != -1)]\n",
    "            connected_nodes = pd.unique(edges[[\"target\", \"source\"]].values.ravel())\n",
    "            nodes = nodes[nodes[\"node_id\"].isin(connected_nodes)]\n",
    "        # Only append scenes with at least one node\n",
    "        if len(nodes) > 0:\n",
    "            scenes.append({\"scene_id\": scene_id, \"edges\": edges, \"nodes\": nodes})\n",
    "        # else:\n",
    "        #     print(f\"NOTE! Scene {scene_id} skipped: no valid nodes after filtering.\")\n",
    "    return scenes\n",
    "\n",
    "# scenes = load_all_subgraphs(dataset_path)\n",
    "# print(f\"Loaded {len(scenes)} scenes.\")\n",
    "\n",
    "# print(\"scenes 1:\", scenes[:1])\n",
    "\n",
    "\n",
    "# Function to load all scenes while keeping each scene as a separate graph\n",
    "def load_all_scenes():\n",
    "    scene_ids = [file.split(\"/\")[-1].split(\".\")[0] for file in glob.glob(f\"{dataset_path}*.nodes\")]\n",
    "    \n",
    "    all_scenes = []\n",
    "    for scene_id in scene_ids:\n",
    "        edges_file = os.path.join(dataset_path, f\"{scene_id}.edges\")\n",
    "        nodes_file = os.path.join(dataset_path, f\"{scene_id}.nodes\")\n",
    "\n",
    "        edges_df = pd.read_csv(edges_file, header=None, names=[\"target\", \"source\"], na_values=\"_\")\n",
    "\n",
    "        nodes_df = pd.read_csv(\n",
    "            nodes_file,\n",
    "            header=None,\n",
    "            names=[\"node_id\", \"current_x\", \"current_y\", \"previous_x\", \"previous_y\", \"future_x\", \"future_y\"],\n",
    "            na_values=\"_\"\n",
    "        )\n",
    "\n",
    "\n",
    "        if nodes_df.isnull().any().any():\n",
    "            nan_nodes = nodes_df[nodes_df.isnull().any(axis=1)]\n",
    "            nan_node_ids = nan_nodes[\"node_id\"].tolist()\n",
    "            #print(f\"Scene {scene_id}: Filtering {len(nan_node_ids)} nodes with NaN values.\")\n",
    "            edges_df = edges_df[~edges_df[\"source\"].isin(nan_node_ids) & ~edges_df[\"target\"].isin(nan_node_ids)]\n",
    "            nodes_df = nodes_df.dropna(subset=[\"future_x\", \"future_y\"])\n",
    "\n",
    "        if (edges_df[\"source\"] == -1).any() or (edges_df[\"target\"] == -1).any():\n",
    "            #print(f\"Scene {scene_id} contains -1 edges. Removing these edges.\")\n",
    "            edges_df = edges_df[(edges_df[\"source\"] != -1) & (edges_df[\"target\"] != -1)]\n",
    "            connected_nodes = pd.unique(edges_df[[\"target\", \"source\"]].values.ravel())\n",
    "            nodes_df = nodes_df[nodes_df[\"node_id\"].isin(connected_nodes)]\n",
    "        \n",
    "        # Convert \"_\" to NaN\n",
    "        nodes_df = nodes_df.replace('_', np.nan)\n",
    "        edges_df = edges_df.replace('_', np.nan)\n",
    "        \n",
    "        # Filter out nodes with missing future positions\n",
    "        #nodes_df = nodes_df.dropna(subset=[\"future_x\", \"future_y\"])\n",
    "        \n",
    "        # Create mapping for node ids within this scene\n",
    "        #node_id_to_index = {node_id: idx for idx, node_id in enumerate(nodes_df[\"node_id\"].values)}\n",
    "        \n",
    "        # Process edges using the node id mapping\n",
    "        # edges_df = edges_df.dropna()\n",
    "        # edges_df['target'] = edges_df['target'].apply(lambda x: node_id_to_index.get(x, -1))\n",
    "        # edges_df['source'] = edges_df['source'].apply(lambda x: node_id_to_index.get(x, -1))\n",
    "        # edges_df = edges_df[(edges_df['target'] != -1) & (edges_df['source'] != -1)]\n",
    "\n",
    "        # Calculate motion features\n",
    "        # nodes_df[\"dir_x\"] = nodes_df[\"current_x\"] - nodes_df[\"prev_x\"]\n",
    "        # nodes_df[\"dir_y\"] = nodes_df[\"current_y\"] - nodes_df[\"prev_y\"]\n",
    "        # nodes_df[\"speed\"] = np.sqrt(nodes_df[\"dir_x\"]**2 + nodes_df[\"dir_y\"]**2)\n",
    "        \n",
    "        # Extract features and labels\n",
    "        # node_features = nodes_df[[\"current_x\", \"current_y\", \"prev_x\", \"prev_y\"]].values\n",
    "        # labels = nodes_df[[\"future_x\", \"future_y\"]].values\n",
    "        # edges = edges_df[[\"target\", \"source\"]].values\n",
    "        \n",
    "        # Store as a structured scene\n",
    "        if len(nodes_df) > 0:\n",
    "            all_scenes.append({\"scene_id\": scene_id, \"edges\": edges_df, \"nodes\": nodes_df})\n",
    "    \n",
    "    print(len(all_scenes))\n",
    "\n",
    "    return all_scenes\n",
    "\n",
    "feature_cols = [\"current_x\", \"current_y\", \"previous_x\", \"previous_y\"]\n",
    "target_cols = [\"future_x\", \"future_y\"]\n",
    "\n",
    "def convert_scene_to_tensors(scene):\n",
    "    nodes_df = scene[\"nodes\"].reset_index(drop=True)\n",
    "    edges_df = scene[\"edges\"].reset_index(drop=True)\n",
    "    # Map node_id to local index\n",
    "    node_id_to_idx = {nid: i for i, nid in enumerate(nodes_df[\"node_id\"])}\n",
    "    # Remap edges to local indices\n",
    "    edges_df = edges_df.copy()\n",
    "    edges_df[\"target\"] = edges_df[\"target\"].map(node_id_to_idx)\n",
    "    edges_df[\"source\"] = edges_df[\"source\"].map(node_id_to_idx)\n",
    "    # Drop edges with missing nodes (after mapping)\n",
    "    edges_df = edges_df.dropna().astype(int)\n",
    "    features = nodes_df[feature_cols].to_numpy().astype(np.float32)\n",
    "    targets = nodes_df[target_cols].to_numpy().astype(np.float32)\n",
    "    edges = edges_df.to_numpy().astype(np.int32)\n",
    "    return features, edges, targets\n",
    "\n",
    "\n",
    "def split_scenes(scenes, train_ratio=0.7, val_ratio=0.15):\n",
    "    np.random.shuffle(scenes)\n",
    "    n_total = len(scenes)\n",
    "    n_train = int(n_total * train_ratio)\n",
    "    n_val = int(n_total * val_ratio)\n",
    "    train_scenes = scenes[:n_train]\n",
    "    val_scenes = scenes[n_train : n_train + n_val]\n",
    "    test_scenes = scenes[n_train + n_val :]\n",
    "    return train_scenes, val_scenes, test_scenes\n",
    "\n",
    "\n",
    "scenes = load_all_scenes()\n",
    "print(f\"Loaded {len(scenes)} scenes.\")\n",
    "train_scenes, val_scenes, test_scenes = split_scenes(scenes, train_ratio=0.7, val_ratio=0.15)\n",
    "print(f\"Train scenes: {len(train_scenes)}, Val scenes: {len(val_scenes)}, Test scenes: {len(test_scenes)}\")\n",
    "\n",
    "\n",
    "# \"\"\" Om man vill ha 70% Training set \"\"\"\n",
    "train_scenes = scenes[:int(0.7 * len(scenes))]\n",
    "val_scenes = scenes[int(0.7 * len(scenes)):int(0.9 * len(scenes))]\n",
    "test_scenes = scenes[int(0.9 * len(scenes)):]\n",
    "\n",
    "# \"\"\" Om man vill ha 50% Training set \"\"\"\n",
    "# # train_scenes = scenes[:int(0.5 * len(scenes))]\n",
    "# # val_scenes = scenes[int(0.5 * len(scenes)):int(0.9 * len(scenes))]\n",
    "# # test_scenes = scenes[int(0.9 * len(scenes)):]\n",
    "\n",
    "print(f\"Training scenes: {len(train_scenes)}\")\n",
    "print(f\"Validation scenes: {len(val_scenes)}\")\n",
    "print(f\"Test scenes: {len(test_scenes)}\")\n",
    "\n",
    "\n",
    "\n",
    "def scene_generator(scene_list):\n",
    "    for scene in scene_list:\n",
    "        yield convert_scene_to_tensors(scene)\n",
    "\n",
    "\n",
    "train_dataset = tf.data.Dataset.from_generator(\n",
    "    lambda: scene_generator(train_scenes),\n",
    "    output_signature=(\n",
    "        tf.TensorSpec(shape=(None, len(feature_cols)), dtype=tf.float32),\n",
    "        tf.TensorSpec(shape=(None, 2), dtype=tf.int32),\n",
    "        tf.TensorSpec(shape=(None, len(target_cols)), dtype=tf.float32),\n",
    "    ),\n",
    ")\n",
    "val_dataset = tf.data.Dataset.from_generator(\n",
    "    lambda: scene_generator(val_scenes),\n",
    "    output_signature=(\n",
    "        tf.TensorSpec(shape=(None, len(feature_cols)), dtype=tf.float32),\n",
    "        tf.TensorSpec(shape=(None, 2), dtype=tf.int32),\n",
    "        tf.TensorSpec(shape=(None, len(target_cols)), dtype=tf.float32),\n",
    "    ),\n",
    ")\n",
    "test_dataset = tf.data.Dataset.from_generator(\n",
    "    lambda: scene_generator(test_scenes),\n",
    "    output_signature=(\n",
    "        tf.TensorSpec(shape=(None, len(feature_cols)), dtype=tf.float32),\n",
    "        tf.TensorSpec(shape=(None, 2), dtype=tf.int32),\n",
    "        tf.TensorSpec(shape=(None, len(target_cols)), dtype=tf.float32),\n",
    "    ),\n",
    ")\n",
    "\n",
    "\n",
    "def squeeze_batch(features, edges, targets):\n",
    "    return tf.squeeze(features, axis=0), tf.squeeze(edges, axis=0), tf.squeeze(targets, axis=0)\n",
    "\n",
    "\n",
    "# train_dataset = train_dataset.shuffle(100).batch(1).map(squeeze_batch)\n",
    "# val_dataset = val_dataset.batch(1).map(squeeze_batch)\n",
    "# test_dataset = test_dataset.batch(1).map(squeeze_batch)\n",
    "\n",
    "train_dataset = train_dataset.shuffle(100).batch(1).map(squeeze_batch)\n",
    "val_dataset = val_dataset.batch(1).map(squeeze_batch)\n",
    "test_dataset = test_dataset.batch(1).map(squeeze_batch)\n"
   ]
  },
  {
   "cell_type": "markdown",
   "id": "fe26e544",
   "metadata": {},
   "source": [
    "## GAT model implementation"
   ]
  },
  {
   "cell_type": "code",
   "execution_count": 17,
   "id": "6b1d5659",
   "metadata": {},
   "outputs": [],
   "source": [
    "class GraphAttention(layers.Layer):\n",
    "    def __init__(\n",
    "        self,\n",
    "        units,\n",
    "        kernel_initializer=\"glorot_uniform\",\n",
    "        kernel_regularizer=None,\n",
    "        **kwargs,\n",
    "    ):\n",
    "        super().__init__(**kwargs)\n",
    "        self.units = units\n",
    "        self.kernel_initializer = keras.initializers.get(kernel_initializer)\n",
    "        self.kernel_regularizer = keras.regularizers.get(kernel_regularizer)\n",
    "\n",
    "    def build(self, input_shape):\n",
    "        self.kernel = self.add_weight(\n",
    "            shape=(input_shape[0][-1], self.units),\n",
    "            trainable=True,\n",
    "            initializer=self.kernel_initializer,\n",
    "            regularizer=self.kernel_regularizer,\n",
    "            name=\"kernel\",\n",
    "        )\n",
    "        self.kernel_attention = self.add_weight(\n",
    "            shape=(self.units * 2, 1),\n",
    "            trainable=True,\n",
    "            initializer=self.kernel_initializer,\n",
    "            regularizer=self.kernel_regularizer,\n",
    "            name=\"kernel_attention\",\n",
    "        )\n",
    "        self.built = True\n",
    "\n",
    "    def call(self, inputs):\n",
    "        node_states, edges = inputs\n",
    "\n",
    "        # Linearly transform node states\n",
    "        node_states_transformed = tf.matmul(node_states, self.kernel)\n",
    "\n",
    "        # (1) Compute pair-wise attention scores\n",
    "        node_states_expanded = tf.gather(node_states_transformed, edges)\n",
    "        node_states_expanded = tf.reshape(\n",
    "            node_states_expanded, (tf.shape(edges)[0], -1)\n",
    "        )\n",
    "        attention_scores = tf.nn.leaky_relu(\n",
    "            tf.matmul(node_states_expanded, self.kernel_attention)\n",
    "        )\n",
    "        attention_scores = tf.squeeze(attention_scores, -1)\n",
    "\n",
    "        # (2) Normalize attention scores\n",
    "        attention_scores = tf.math.exp(tf.clip_by_value(attention_scores, -2, 2))\n",
    "        attention_scores_sum = tf.math.unsorted_segment_sum(\n",
    "            data=attention_scores,\n",
    "            segment_ids=edges[:, 0],\n",
    "            num_segments=tf.reduce_max(edges[:, 0]) + 1,\n",
    "        )\n",
    "        attention_scores_sum = tf.repeat(\n",
    "            attention_scores_sum, tf.math.bincount(tf.cast(edges[:, 0], \"int32\"))\n",
    "        )\n",
    "        attention_scores_norm = attention_scores / attention_scores_sum\n",
    "        num_nodes = tf.shape(node_states)[0]\n",
    "        # (3) Gather node states of neighbors, apply attention scores and aggregate\n",
    "        node_states_neighbors = tf.gather(node_states_transformed, edges[:, 1])\n",
    "        out = tf.math.unsorted_segment_sum(\n",
    "            data=node_states_neighbors * attention_scores_norm[:, tf.newaxis],\n",
    "            segment_ids=edges[:, 0],\n",
    "            num_segments=num_nodes,\n",
    "        )\n",
    "        return out\n",
    "\n",
    "\n",
    "class MultiHeadGraphAttention(layers.Layer):\n",
    "    def __init__(self, units, num_heads=8, merge_type=\"concat\", **kwargs):\n",
    "        super().__init__(**kwargs)\n",
    "        self.num_heads = num_heads\n",
    "        self.merge_type = merge_type\n",
    "        self.attention_layers = [GraphAttention(units) for _ in range(num_heads)]\n",
    "\n",
    "    def call(self, inputs):\n",
    "        atom_features, pair_indices = inputs\n",
    "\n",
    "        # Obtain outputs from each attention head\n",
    "        outputs = [\n",
    "            attention_layer([atom_features, pair_indices])\n",
    "            for attention_layer in self.attention_layers\n",
    "        ]\n",
    "        # Concatenate or average the node states from each head\n",
    "        if self.merge_type == \"concat\":\n",
    "            outputs = tf.concat(outputs, axis=-1)\n",
    "        else:\n",
    "            outputs = tf.reduce_mean(tf.stack(outputs, axis=-1), axis=-1)\n",
    "        # Activate and return node states\n",
    "        return tf.nn.relu(outputs)\n",
    "\n",
    "\n",
    "class GraphAttentionNetwork(keras.Model):\n",
    "    def __init__(self, hidden_units, num_heads, num_layers, output_dim, **kwargs):\n",
    "        super().__init__(**kwargs)\n",
    "        self.preprocess = layers.Dense(hidden_units * num_heads, activation=\"relu\")\n",
    "        self.attention_layers = [MultiHeadGraphAttention(hidden_units, num_heads) for _ in range(num_layers)]\n",
    "        self.output_layer = layers.Dense(output_dim)\n",
    "\n",
    "    def call(self, inputs, training=False):\n",
    "        # Since our dataset is unbatched, node_features is expected to have shape [n_nodes, feature_dim]\n",
    "        node_features, edges = inputs\n",
    "\n",
    "        # Directly use inputs since no batch dimension is present.\n",
    "        x = self.preprocess(node_features)\n",
    "        for attn_layer in self.attention_layers:\n",
    "            x_new = attn_layer([x, edges])\n",
    "            x = x + x_new  # residual connection\n",
    "        outputs = self.output_layer(x)\n",
    "        return outputs\n",
    "\n",
    "    def train_step(self, data):\n",
    "        node_features, edges, targets = data\n",
    "        with tf.GradientTape() as tape:\n",
    "            outputs = self([node_features, edges], training=True)\n",
    "            loss = self.compiled_loss(targets, outputs)\n",
    "        grads = tape.gradient(loss, self.trainable_weights)\n",
    "        self.optimizer.apply_gradients(zip(grads, self.trainable_weights))\n",
    "        self.compiled_metrics.update_state(targets, outputs)\n",
    "        return {m.name: m.result() for m in self.metrics}\n",
    "\n",
    "\n",
    "    def predict_step(self, data):\n",
    "        node_features, edges, _ = data\n",
    "        outputs = self([node_features, edges], training=False)\n",
    "        return outputs\n",
    "\n",
    "    def test_step(self, data):\n",
    "        node_features, edges, targets = data\n",
    "        outputs = self([node_features, edges], training=False)\n",
    "        loss = self.compiled_loss(targets, outputs)\n",
    "        self.compiled_metrics.update_state(targets, outputs)\n",
    "        return {m.name: m.result() for m in self.metrics}\n"
   ]
  },
  {
   "cell_type": "markdown",
   "id": "51dd98a8",
   "metadata": {},
   "source": [
    "## Train the model"
   ]
  },
  {
   "cell_type": "code",
   "execution_count": null,
   "id": "4ffa24b9",
   "metadata": {},
   "outputs": [
    {
     "name": "stdout",
     "output_type": "stream",
     "text": [
      "Epoch 1/25\n",
      "    128/Unknown \u001b[1m26s\u001b[0m 12ms/step - mean_absolute_error: 14391.0889 - loss: 2165.5344"
     ]
    },
    {
     "name": "stderr",
     "output_type": "stream",
     "text": [
      "2025-04-16 14:24:15.571210: W tensorflow/core/framework/local_rendezvous.cc:404] Local rendezvous is aborting with status: OUT_OF_RANGE: End of sequence\n",
      "\t [[{{node IteratorGetNext}}]]\n"
     ]
    },
    {
     "name": "stdout",
     "output_type": "stream",
     "text": [
      "\u001b[1m132/132\u001b[0m \u001b[32m━━━━━━━━━━━━━━━━━━━━\u001b[0m\u001b[37m\u001b[0m \u001b[1m30s\u001b[0m 37ms/step - mean_absolute_error: 14220.5947 - loss: 2199.7568 - val_loss: 4725.1616\n",
      "Epoch 2/25\n"
     ]
    },
    {
     "name": "stderr",
     "output_type": "stream",
     "text": [
      "2025-04-16 14:24:18.819409: W tensorflow/core/framework/local_rendezvous.cc:404] Local rendezvous is aborting with status: OUT_OF_RANGE: End of sequence\n",
      "\t [[{{node IteratorGetNext}}]]\n"
     ]
    },
    {
     "name": "stdout",
     "output_type": "stream",
     "text": [
      "\u001b[1m129/132\u001b[0m \u001b[32m━━━━━━━━━━━━━━━━━━━\u001b[0m\u001b[37m━\u001b[0m \u001b[1m0s\u001b[0m 12ms/step - mean_absolute_error: 6468.7271 - loss: 4130.5596"
     ]
    },
    {
     "name": "stderr",
     "output_type": "stream",
     "text": [
      "2025-04-16 14:24:20.682340: W tensorflow/core/framework/local_rendezvous.cc:404] Local rendezvous is aborting with status: OUT_OF_RANGE: End of sequence\n",
      "\t [[{{node IteratorGetNext}}]]\n"
     ]
    },
    {
     "name": "stdout",
     "output_type": "stream",
     "text": [
      "\u001b[1m132/132\u001b[0m \u001b[32m━━━━━━━━━━━━━━━━━━━━\u001b[0m\u001b[37m\u001b[0m \u001b[1m2s\u001b[0m 13ms/step - mean_absolute_error: 6471.0850 - loss: 4134.8901 - val_loss: 4855.9639\n",
      "Epoch 3/25\n"
     ]
    },
    {
     "name": "stderr",
     "output_type": "stream",
     "text": [
      "2025-04-16 14:24:20.892363: W tensorflow/core/framework/local_rendezvous.cc:404] Local rendezvous is aborting with status: OUT_OF_RANGE: End of sequence\n",
      "\t [[{{node IteratorGetNext}}]]\n"
     ]
    },
    {
     "name": "stdout",
     "output_type": "stream",
     "text": [
      "\u001b[1m128/132\u001b[0m \u001b[32m━━━━━━━━━━━━━━━━━━━\u001b[0m\u001b[37m━\u001b[0m \u001b[1m0s\u001b[0m 15ms/step - mean_absolute_error: 6188.1660 - loss: 4365.5527"
     ]
    },
    {
     "name": "stderr",
     "output_type": "stream",
     "text": [
      "2025-04-16 14:24:23.100780: W tensorflow/core/framework/local_rendezvous.cc:404] Local rendezvous is aborting with status: OUT_OF_RANGE: End of sequence\n",
      "\t [[{{node IteratorGetNext}}]]\n"
     ]
    },
    {
     "name": "stdout",
     "output_type": "stream",
     "text": [
      "\u001b[1m132/132\u001b[0m \u001b[32m━━━━━━━━━━━━━━━━━━━━\u001b[0m\u001b[37m\u001b[0m \u001b[1m2s\u001b[0m 16ms/step - mean_absolute_error: 6189.0352 - loss: 4364.6733 - val_loss: 4517.4302\n",
      "Epoch 4/25\n"
     ]
    },
    {
     "name": "stderr",
     "output_type": "stream",
     "text": [
      "2025-04-16 14:24:23.339077: W tensorflow/core/framework/local_rendezvous.cc:404] Local rendezvous is aborting with status: OUT_OF_RANGE: End of sequence\n",
      "\t [[{{node IteratorGetNext}}]]\n"
     ]
    },
    {
     "name": "stdout",
     "output_type": "stream",
     "text": [
      "\u001b[1m130/132\u001b[0m \u001b[32m━━━━━━━━━━━━━━━━━━━\u001b[0m\u001b[37m━\u001b[0m \u001b[1m0s\u001b[0m 12ms/step - mean_absolute_error: 5822.7275 - loss: 4250.2993"
     ]
    },
    {
     "name": "stderr",
     "output_type": "stream",
     "text": [
      "2025-04-16 14:24:25.225114: W tensorflow/core/framework/local_rendezvous.cc:404] Local rendezvous is aborting with status: OUT_OF_RANGE: End of sequence\n",
      "\t [[{{node IteratorGetNext}}]]\n"
     ]
    },
    {
     "name": "stdout",
     "output_type": "stream",
     "text": [
      "\u001b[1m132/132\u001b[0m \u001b[32m━━━━━━━━━━━━━━━━━━━━\u001b[0m\u001b[37m\u001b[0m \u001b[1m2s\u001b[0m 14ms/step - mean_absolute_error: 5822.1475 - loss: 4251.7642 - val_loss: 4799.2437\n",
      "Epoch 5/25\n"
     ]
    },
    {
     "name": "stderr",
     "output_type": "stream",
     "text": [
      "2025-04-16 14:24:25.449563: W tensorflow/core/framework/local_rendezvous.cc:404] Local rendezvous is aborting with status: OUT_OF_RANGE: End of sequence\n",
      "\t [[{{node IteratorGetNext}}]]\n"
     ]
    },
    {
     "name": "stdout",
     "output_type": "stream",
     "text": [
      "\u001b[1m129/132\u001b[0m \u001b[32m━━━━━━━━━━━━━━━━━━━\u001b[0m\u001b[37m━\u001b[0m \u001b[1m0s\u001b[0m 13ms/step - mean_absolute_error: 5892.2212 - loss: 4449.1914"
     ]
    },
    {
     "name": "stderr",
     "output_type": "stream",
     "text": [
      "2025-04-16 14:24:27.449310: W tensorflow/core/framework/local_rendezvous.cc:404] Local rendezvous is aborting with status: OUT_OF_RANGE: End of sequence\n",
      "\t [[{{node IteratorGetNext}}]]\n"
     ]
    },
    {
     "name": "stdout",
     "output_type": "stream",
     "text": [
      "\u001b[1m132/132\u001b[0m \u001b[32m━━━━━━━━━━━━━━━━━━━━\u001b[0m\u001b[37m\u001b[0m \u001b[1m2s\u001b[0m 15ms/step - mean_absolute_error: 5880.3408 - loss: 4446.0000 - val_loss: 4714.9321\n",
      "Epoch 6/25\n"
     ]
    },
    {
     "name": "stderr",
     "output_type": "stream",
     "text": [
      "2025-04-16 14:24:27.710052: W tensorflow/core/framework/local_rendezvous.cc:404] Local rendezvous is aborting with status: OUT_OF_RANGE: End of sequence\n",
      "\t [[{{node IteratorGetNext}}]]\n"
     ]
    },
    {
     "name": "stdout",
     "output_type": "stream",
     "text": [
      "\u001b[1m128/132\u001b[0m \u001b[32m━━━━━━━━━━━━━━━━━━━\u001b[0m\u001b[37m━\u001b[0m \u001b[1m0s\u001b[0m 12ms/step - mean_absolute_error: 5163.9727 - loss: 4240.4556"
     ]
    },
    {
     "name": "stderr",
     "output_type": "stream",
     "text": [
      "2025-04-16 14:24:29.671368: W tensorflow/core/framework/local_rendezvous.cc:404] Local rendezvous is aborting with status: OUT_OF_RANGE: End of sequence\n",
      "\t [[{{node IteratorGetNext}}]]\n"
     ]
    },
    {
     "name": "stdout",
     "output_type": "stream",
     "text": [
      "\u001b[1m132/132\u001b[0m \u001b[32m━━━━━━━━━━━━━━━━━━━━\u001b[0m\u001b[37m\u001b[0m \u001b[1m2s\u001b[0m 14ms/step - mean_absolute_error: 5163.0522 - loss: 4247.4922 - val_loss: 4876.3657\n",
      "Epoch 7/25\n"
     ]
    },
    {
     "name": "stderr",
     "output_type": "stream",
     "text": [
      "2025-04-16 14:24:29.889263: W tensorflow/core/framework/local_rendezvous.cc:404] Local rendezvous is aborting with status: OUT_OF_RANGE: End of sequence\n",
      "\t [[{{node IteratorGetNext}}]]\n"
     ]
    },
    {
     "name": "stdout",
     "output_type": "stream",
     "text": [
      "\u001b[1m132/132\u001b[0m \u001b[32m━━━━━━━━━━━━━━━━━━━━\u001b[0m\u001b[37m\u001b[0m \u001b[1m0s\u001b[0m 12ms/step - mean_absolute_error: 5055.9414 - loss: 4579.9268"
     ]
    },
    {
     "name": "stderr",
     "output_type": "stream",
     "text": [
      "2025-04-16 14:24:31.808375: W tensorflow/core/framework/local_rendezvous.cc:404] Local rendezvous is aborting with status: OUT_OF_RANGE: End of sequence\n",
      "\t [[{{node IteratorGetNext}}]]\n"
     ]
    },
    {
     "name": "stdout",
     "output_type": "stream",
     "text": [
      "\u001b[1m132/132\u001b[0m \u001b[32m━━━━━━━━━━━━━━━━━━━━\u001b[0m\u001b[37m\u001b[0m \u001b[1m2s\u001b[0m 14ms/step - mean_absolute_error: 5053.6538 - loss: 4578.6216 - val_loss: 4834.2734\n",
      "Epoch 8/25\n"
     ]
    },
    {
     "name": "stderr",
     "output_type": "stream",
     "text": [
      "2025-04-16 14:24:32.018796: W tensorflow/core/framework/local_rendezvous.cc:404] Local rendezvous is aborting with status: OUT_OF_RANGE: End of sequence\n",
      "\t [[{{node IteratorGetNext}}]]\n"
     ]
    },
    {
     "name": "stdout",
     "output_type": "stream",
     "text": [
      "\u001b[1m129/132\u001b[0m \u001b[32m━━━━━━━━━━━━━━━━━━━\u001b[0m\u001b[37m━\u001b[0m \u001b[1m0s\u001b[0m 12ms/step - mean_absolute_error: 4772.3320 - loss: 4728.4355"
     ]
    },
    {
     "name": "stderr",
     "output_type": "stream",
     "text": [
      "2025-04-16 14:24:33.852097: W tensorflow/core/framework/local_rendezvous.cc:404] Local rendezvous is aborting with status: OUT_OF_RANGE: End of sequence\n",
      "\t [[{{node IteratorGetNext}}]]\n"
     ]
    },
    {
     "name": "stdout",
     "output_type": "stream",
     "text": [
      "\u001b[1m132/132\u001b[0m \u001b[32m━━━━━━━━━━━━━━━━━━━━\u001b[0m\u001b[37m\u001b[0m \u001b[1m2s\u001b[0m 13ms/step - mean_absolute_error: 4765.9829 - loss: 4718.0122 - val_loss: 4833.5439\n",
      "Epoch 9/25\n"
     ]
    },
    {
     "name": "stderr",
     "output_type": "stream",
     "text": [
      "2025-04-16 14:24:34.061685: W tensorflow/core/framework/local_rendezvous.cc:404] Local rendezvous is aborting with status: OUT_OF_RANGE: End of sequence\n",
      "\t [[{{node IteratorGetNext}}]]\n"
     ]
    },
    {
     "name": "stdout",
     "output_type": "stream",
     "text": [
      "\u001b[1m128/132\u001b[0m \u001b[32m━━━━━━━━━━━━━━━━━━━\u001b[0m\u001b[37m━\u001b[0m \u001b[1m0s\u001b[0m 13ms/step - mean_absolute_error: 4123.4243 - loss: 4130.9585"
     ]
    },
    {
     "name": "stderr",
     "output_type": "stream",
     "text": [
      "2025-04-16 14:24:36.039469: W tensorflow/core/framework/local_rendezvous.cc:404] Local rendezvous is aborting with status: OUT_OF_RANGE: End of sequence\n",
      "\t [[{{node IteratorGetNext}}]]\n"
     ]
    },
    {
     "name": "stdout",
     "output_type": "stream",
     "text": [
      "\u001b[1m132/132\u001b[0m \u001b[32m━━━━━━━━━━━━━━━━━━━━\u001b[0m\u001b[37m\u001b[0m \u001b[1m2s\u001b[0m 14ms/step - mean_absolute_error: 4127.9116 - loss: 4142.1987 - val_loss: 5260.1401\n",
      "Epoch 10/25\n"
     ]
    },
    {
     "name": "stderr",
     "output_type": "stream",
     "text": [
      "2025-04-16 14:24:36.245675: W tensorflow/core/framework/local_rendezvous.cc:404] Local rendezvous is aborting with status: OUT_OF_RANGE: End of sequence\n",
      "\t [[{{node IteratorGetNext}}]]\n"
     ]
    },
    {
     "name": "stdout",
     "output_type": "stream",
     "text": [
      "\u001b[1m132/132\u001b[0m \u001b[32m━━━━━━━━━━━━━━━━━━━━\u001b[0m\u001b[37m\u001b[0m \u001b[1m0s\u001b[0m 12ms/step - mean_absolute_error: 4088.7827 - loss: 4240.9326"
     ]
    },
    {
     "name": "stderr",
     "output_type": "stream",
     "text": [
      "2025-04-16 14:24:38.094717: W tensorflow/core/framework/local_rendezvous.cc:404] Local rendezvous is aborting with status: OUT_OF_RANGE: End of sequence\n",
      "\t [[{{node IteratorGetNext}}]]\n"
     ]
    },
    {
     "name": "stdout",
     "output_type": "stream",
     "text": [
      "\u001b[1m132/132\u001b[0m \u001b[32m━━━━━━━━━━━━━━━━━━━━\u001b[0m\u001b[37m\u001b[0m \u001b[1m2s\u001b[0m 13ms/step - mean_absolute_error: 4086.9497 - loss: 4242.5278 - val_loss: 5080.6958\n",
      "Epoch 11/25\n"
     ]
    },
    {
     "name": "stderr",
     "output_type": "stream",
     "text": [
      "2025-04-16 14:24:38.322354: W tensorflow/core/framework/local_rendezvous.cc:404] Local rendezvous is aborting with status: OUT_OF_RANGE: End of sequence\n",
      "\t [[{{node IteratorGetNext}}]]\n"
     ]
    },
    {
     "name": "stdout",
     "output_type": "stream",
     "text": [
      "\u001b[1m130/132\u001b[0m \u001b[32m━━━━━━━━━━━━━━━━━━━\u001b[0m\u001b[37m━\u001b[0m \u001b[1m0s\u001b[0m 12ms/step - mean_absolute_error: 3866.7151 - loss: 4006.9807"
     ]
    },
    {
     "name": "stderr",
     "output_type": "stream",
     "text": [
      "2025-04-16 14:24:40.182445: W tensorflow/core/framework/local_rendezvous.cc:404] Local rendezvous is aborting with status: OUT_OF_RANGE: End of sequence\n",
      "\t [[{{node IteratorGetNext}}]]\n"
     ]
    },
    {
     "name": "stdout",
     "output_type": "stream",
     "text": [
      "\u001b[1m132/132\u001b[0m \u001b[32m━━━━━━━━━━━━━━━━━━━━\u001b[0m\u001b[37m\u001b[0m \u001b[1m2s\u001b[0m 13ms/step - mean_absolute_error: 3861.8677 - loss: 4017.5811 - val_loss: 4937.0371\n",
      "Epoch 12/25\n"
     ]
    },
    {
     "name": "stderr",
     "output_type": "stream",
     "text": [
      "2025-04-16 14:24:40.391540: W tensorflow/core/framework/local_rendezvous.cc:404] Local rendezvous is aborting with status: OUT_OF_RANGE: End of sequence\n",
      "\t [[{{node IteratorGetNext}}]]\n"
     ]
    },
    {
     "name": "stdout",
     "output_type": "stream",
     "text": [
      "\u001b[1m128/132\u001b[0m \u001b[32m━━━━━━━━━━━━━━━━━━━\u001b[0m\u001b[37m━\u001b[0m \u001b[1m0s\u001b[0m 12ms/step - mean_absolute_error: 3635.7375 - loss: 4706.2764"
     ]
    },
    {
     "name": "stderr",
     "output_type": "stream",
     "text": [
      "2025-04-16 14:24:42.293005: W tensorflow/core/framework/local_rendezvous.cc:404] Local rendezvous is aborting with status: OUT_OF_RANGE: End of sequence\n",
      "\t [[{{node IteratorGetNext}}]]\n"
     ]
    },
    {
     "name": "stdout",
     "output_type": "stream",
     "text": [
      "\u001b[1m132/132\u001b[0m \u001b[32m━━━━━━━━━━━━━━━━━━━━\u001b[0m\u001b[37m\u001b[0m \u001b[1m2s\u001b[0m 14ms/step - mean_absolute_error: 3628.1318 - loss: 4698.5806 - val_loss: 4743.2944\n",
      "Epoch 13/25\n"
     ]
    },
    {
     "name": "stderr",
     "output_type": "stream",
     "text": [
      "2025-04-16 14:24:42.504114: W tensorflow/core/framework/local_rendezvous.cc:404] Local rendezvous is aborting with status: OUT_OF_RANGE: End of sequence\n",
      "\t [[{{node IteratorGetNext}}]]\n"
     ]
    },
    {
     "name": "stdout",
     "output_type": "stream",
     "text": [
      "\u001b[1m131/132\u001b[0m \u001b[32m━━━━━━━━━━━━━━━━━━━\u001b[0m\u001b[37m━\u001b[0m \u001b[1m0s\u001b[0m 12ms/step - mean_absolute_error: 3202.3062 - loss: 4263.9404"
     ]
    },
    {
     "name": "stderr",
     "output_type": "stream",
     "text": [
      "2025-04-16 14:24:44.347970: W tensorflow/core/framework/local_rendezvous.cc:404] Local rendezvous is aborting with status: OUT_OF_RANGE: End of sequence\n",
      "\t [[{{node IteratorGetNext}}]]\n"
     ]
    },
    {
     "name": "stdout",
     "output_type": "stream",
     "text": [
      "\u001b[1m132/132\u001b[0m \u001b[32m━━━━━━━━━━━━━━━━━━━━\u001b[0m\u001b[37m\u001b[0m \u001b[1m3s\u001b[0m 17ms/step - mean_absolute_error: 3201.3127 - loss: 4267.2959 - val_loss: 4776.4253\n",
      "Epoch 14/25\n"
     ]
    },
    {
     "name": "stderr",
     "output_type": "stream",
     "text": [
      "2025-04-16 14:24:45.103773: W tensorflow/core/framework/local_rendezvous.cc:404] Local rendezvous is aborting with status: OUT_OF_RANGE: End of sequence\n",
      "\t [[{{node IteratorGetNext}}]]\n"
     ]
    },
    {
     "name": "stdout",
     "output_type": "stream",
     "text": [
      "\u001b[1m129/132\u001b[0m \u001b[32m━━━━━━━━━━━━━━━━━━━\u001b[0m\u001b[37m━\u001b[0m \u001b[1m0s\u001b[0m 12ms/step - mean_absolute_error: 2942.6855 - loss: 4236.9292"
     ]
    },
    {
     "name": "stderr",
     "output_type": "stream",
     "text": [
      "2025-04-16 14:24:46.937613: W tensorflow/core/framework/local_rendezvous.cc:404] Local rendezvous is aborting with status: OUT_OF_RANGE: End of sequence\n",
      "\t [[{{node IteratorGetNext}}]]\n"
     ]
    },
    {
     "name": "stdout",
     "output_type": "stream",
     "text": [
      "\u001b[1m132/132\u001b[0m \u001b[32m━━━━━━━━━━━━━━━━━━━━\u001b[0m\u001b[37m\u001b[0m \u001b[1m2s\u001b[0m 13ms/step - mean_absolute_error: 2940.4771 - loss: 4244.4819 - val_loss: 4977.2085\n",
      "Epoch 15/25\n"
     ]
    },
    {
     "name": "stderr",
     "output_type": "stream",
     "text": [
      "2025-04-16 14:24:47.152006: W tensorflow/core/framework/local_rendezvous.cc:404] Local rendezvous is aborting with status: OUT_OF_RANGE: End of sequence\n",
      "\t [[{{node IteratorGetNext}}]]\n"
     ]
    },
    {
     "name": "stdout",
     "output_type": "stream",
     "text": [
      "\u001b[1m131/132\u001b[0m \u001b[32m━━━━━━━━━━━━━━━━━━━\u001b[0m\u001b[37m━\u001b[0m \u001b[1m0s\u001b[0m 12ms/step - mean_absolute_error: 2739.3416 - loss: 4369.1128"
     ]
    },
    {
     "name": "stderr",
     "output_type": "stream",
     "text": [
      "2025-04-16 14:24:49.076949: W tensorflow/core/framework/local_rendezvous.cc:404] Local rendezvous is aborting with status: OUT_OF_RANGE: End of sequence\n",
      "\t [[{{node IteratorGetNext}}]]\n"
     ]
    },
    {
     "name": "stdout",
     "output_type": "stream",
     "text": [
      "\u001b[1m132/132\u001b[0m \u001b[32m━━━━━━━━━━━━━━━━━━━━\u001b[0m\u001b[37m\u001b[0m \u001b[1m2s\u001b[0m 14ms/step - mean_absolute_error: 2738.6147 - loss: 4371.2339 - val_loss: 4536.8970\n",
      "Epoch 16/25\n"
     ]
    },
    {
     "name": "stderr",
     "output_type": "stream",
     "text": [
      "2025-04-16 14:24:49.289780: W tensorflow/core/framework/local_rendezvous.cc:404] Local rendezvous is aborting with status: OUT_OF_RANGE: End of sequence\n",
      "\t [[{{node IteratorGetNext}}]]\n"
     ]
    },
    {
     "name": "stdout",
     "output_type": "stream",
     "text": [
      "\u001b[1m128/132\u001b[0m \u001b[32m━━━━━━━━━━━━━━━━━━━\u001b[0m\u001b[37m━\u001b[0m \u001b[1m0s\u001b[0m 12ms/step - mean_absolute_error: 2527.1626 - loss: 4501.5039"
     ]
    },
    {
     "name": "stderr",
     "output_type": "stream",
     "text": [
      "2025-04-16 14:24:51.159063: W tensorflow/core/framework/local_rendezvous.cc:404] Local rendezvous is aborting with status: OUT_OF_RANGE: End of sequence\n",
      "\t [[{{node IteratorGetNext}}]]\n"
     ]
    },
    {
     "name": "stdout",
     "output_type": "stream",
     "text": [
      "\u001b[1m132/132\u001b[0m \u001b[32m━━━━━━━━━━━━━━━━━━━━\u001b[0m\u001b[37m\u001b[0m \u001b[1m2s\u001b[0m 13ms/step - mean_absolute_error: 2522.1733 - loss: 4503.0698 - val_loss: 5110.6758\n",
      "Epoch 17/25\n"
     ]
    },
    {
     "name": "stderr",
     "output_type": "stream",
     "text": [
      "2025-04-16 14:24:51.364034: W tensorflow/core/framework/local_rendezvous.cc:404] Local rendezvous is aborting with status: OUT_OF_RANGE: End of sequence\n",
      "\t [[{{node IteratorGetNext}}]]\n"
     ]
    },
    {
     "name": "stdout",
     "output_type": "stream",
     "text": [
      "\u001b[1m128/132\u001b[0m \u001b[32m━━━━━━━━━━━━━━━━━━━\u001b[0m\u001b[37m━\u001b[0m \u001b[1m0s\u001b[0m 11ms/step - mean_absolute_error: 2166.2920 - loss: 4654.1328"
     ]
    },
    {
     "name": "stderr",
     "output_type": "stream",
     "text": [
      "2025-04-16 14:24:53.187832: W tensorflow/core/framework/local_rendezvous.cc:404] Local rendezvous is aborting with status: OUT_OF_RANGE: End of sequence\n",
      "\t [[{{node IteratorGetNext}}]]\n"
     ]
    },
    {
     "name": "stdout",
     "output_type": "stream",
     "text": [
      "\u001b[1m132/132\u001b[0m \u001b[32m━━━━━━━━━━━━━━━━━━━━\u001b[0m\u001b[37m\u001b[0m \u001b[1m2s\u001b[0m 13ms/step - mean_absolute_error: 2166.3594 - loss: 4652.4717 - val_loss: 4945.0688\n",
      "Epoch 18/25\n"
     ]
    },
    {
     "name": "stderr",
     "output_type": "stream",
     "text": [
      "2025-04-16 14:24:53.402979: W tensorflow/core/framework/local_rendezvous.cc:404] Local rendezvous is aborting with status: OUT_OF_RANGE: End of sequence\n",
      "\t [[{{node IteratorGetNext}}]]\n"
     ]
    },
    {
     "name": "stdout",
     "output_type": "stream",
     "text": [
      "\u001b[1m129/132\u001b[0m \u001b[32m━━━━━━━━━━━━━━━━━━━\u001b[0m\u001b[37m━\u001b[0m \u001b[1m0s\u001b[0m 13ms/step - mean_absolute_error: 2099.5032 - loss: 4447.4067"
     ]
    },
    {
     "name": "stderr",
     "output_type": "stream",
     "text": [
      "2025-04-16 14:24:55.434041: W tensorflow/core/framework/local_rendezvous.cc:404] Local rendezvous is aborting with status: OUT_OF_RANGE: End of sequence\n",
      "\t [[{{node IteratorGetNext}}]]\n"
     ]
    },
    {
     "name": "stdout",
     "output_type": "stream",
     "text": [
      "\u001b[1m132/132\u001b[0m \u001b[32m━━━━━━━━━━━━━━━━━━━━\u001b[0m\u001b[37m\u001b[0m \u001b[1m2s\u001b[0m 15ms/step - mean_absolute_error: 2096.3220 - loss: 4453.3076 - val_loss: 5189.3462\n",
      "Epoch 19/25\n"
     ]
    },
    {
     "name": "stderr",
     "output_type": "stream",
     "text": [
      "2025-04-16 14:24:55.700252: W tensorflow/core/framework/local_rendezvous.cc:404] Local rendezvous is aborting with status: OUT_OF_RANGE: End of sequence\n",
      "\t [[{{node IteratorGetNext}}]]\n"
     ]
    },
    {
     "name": "stdout",
     "output_type": "stream",
     "text": [
      "\u001b[1m131/132\u001b[0m \u001b[32m━━━━━━━━━━━━━━━━━━━\u001b[0m\u001b[37m━\u001b[0m \u001b[1m0s\u001b[0m 13ms/step - mean_absolute_error: 1892.2959 - loss: 4900.9692"
     ]
    },
    {
     "name": "stderr",
     "output_type": "stream",
     "text": [
      "2025-04-16 14:24:57.779386: W tensorflow/core/framework/local_rendezvous.cc:404] Local rendezvous is aborting with status: OUT_OF_RANGE: End of sequence\n",
      "\t [[{{node IteratorGetNext}}]]\n"
     ]
    },
    {
     "name": "stdout",
     "output_type": "stream",
     "text": [
      "\u001b[1m132/132\u001b[0m \u001b[32m━━━━━━━━━━━━━━━━━━━━\u001b[0m\u001b[37m\u001b[0m \u001b[1m2s\u001b[0m 15ms/step - mean_absolute_error: 1890.9170 - loss: 4898.8481 - val_loss: 5053.7729\n",
      "Epoch 20/25\n"
     ]
    },
    {
     "name": "stderr",
     "output_type": "stream",
     "text": [
      "2025-04-16 14:24:58.044730: W tensorflow/core/framework/local_rendezvous.cc:404] Local rendezvous is aborting with status: OUT_OF_RANGE: End of sequence\n",
      "\t [[{{node IteratorGetNext}}]]\n"
     ]
    },
    {
     "name": "stdout",
     "output_type": "stream",
     "text": [
      "\u001b[1m132/132\u001b[0m \u001b[32m━━━━━━━━━━━━━━━━━━━━\u001b[0m\u001b[37m\u001b[0m \u001b[1m0s\u001b[0m 12ms/step - mean_absolute_error: 1798.4097 - loss: 4685.2124"
     ]
    },
    {
     "name": "stderr",
     "output_type": "stream",
     "text": [
      "2025-04-16 14:25:00.054283: W tensorflow/core/framework/local_rendezvous.cc:404] Local rendezvous is aborting with status: OUT_OF_RANGE: End of sequence\n",
      "\t [[{{node IteratorGetNext}}]]\n"
     ]
    },
    {
     "name": "stdout",
     "output_type": "stream",
     "text": [
      "\u001b[1m132/132\u001b[0m \u001b[32m━━━━━━━━━━━━━━━━━━━━\u001b[0m\u001b[37m\u001b[0m \u001b[1m2s\u001b[0m 15ms/step - mean_absolute_error: 1796.7273 - loss: 4686.2617 - val_loss: 5312.3091\n",
      "Epoch 21/25\n"
     ]
    },
    {
     "name": "stderr",
     "output_type": "stream",
     "text": [
      "2025-04-16 14:25:00.328578: W tensorflow/core/framework/local_rendezvous.cc:404] Local rendezvous is aborting with status: OUT_OF_RANGE: End of sequence\n",
      "\t [[{{node IteratorGetNext}}]]\n"
     ]
    },
    {
     "name": "stdout",
     "output_type": "stream",
     "text": [
      "\u001b[1m132/132\u001b[0m \u001b[32m━━━━━━━━━━━━━━━━━━━━\u001b[0m\u001b[37m\u001b[0m \u001b[1m0s\u001b[0m 13ms/step - mean_absolute_error: 1580.0901 - loss: 5052.1279"
     ]
    },
    {
     "name": "stderr",
     "output_type": "stream",
     "text": [
      "2025-04-16 14:25:02.422596: W tensorflow/core/framework/local_rendezvous.cc:404] Local rendezvous is aborting with status: OUT_OF_RANGE: End of sequence\n",
      "\t [[{{node IteratorGetNext}}]]\n"
     ]
    },
    {
     "name": "stdout",
     "output_type": "stream",
     "text": [
      "\u001b[1m132/132\u001b[0m \u001b[32m━━━━━━━━━━━━━━━━━━━━\u001b[0m\u001b[37m\u001b[0m \u001b[1m2s\u001b[0m 15ms/step - mean_absolute_error: 1579.9037 - loss: 5051.4878 - val_loss: 5515.9741\n",
      "Epoch 22/25\n"
     ]
    },
    {
     "name": "stderr",
     "output_type": "stream",
     "text": [
      "2025-04-16 14:25:02.701710: W tensorflow/core/framework/local_rendezvous.cc:404] Local rendezvous is aborting with status: OUT_OF_RANGE: End of sequence\n",
      "\t [[{{node IteratorGetNext}}]]\n"
     ]
    },
    {
     "name": "stdout",
     "output_type": "stream",
     "text": [
      "\u001b[1m129/132\u001b[0m \u001b[32m━━━━━━━━━━━━━━━━━━━\u001b[0m\u001b[37m━\u001b[0m \u001b[1m0s\u001b[0m 13ms/step - mean_absolute_error: 1428.4783 - loss: 4950.7905"
     ]
    },
    {
     "name": "stderr",
     "output_type": "stream",
     "text": [
      "2025-04-16 14:25:04.766206: W tensorflow/core/framework/local_rendezvous.cc:404] Local rendezvous is aborting with status: OUT_OF_RANGE: End of sequence\n",
      "\t [[{{node IteratorGetNext}}]]\n"
     ]
    },
    {
     "name": "stdout",
     "output_type": "stream",
     "text": [
      "\u001b[1m132/132\u001b[0m \u001b[32m━━━━━━━━━━━━━━━━━━━━\u001b[0m\u001b[37m\u001b[0m \u001b[1m2s\u001b[0m 15ms/step - mean_absolute_error: 1427.3198 - loss: 4954.7822 - val_loss: 5817.3164\n",
      "Epoch 23/25\n"
     ]
    },
    {
     "name": "stderr",
     "output_type": "stream",
     "text": [
      "2025-04-16 14:25:05.051515: W tensorflow/core/framework/local_rendezvous.cc:404] Local rendezvous is aborting with status: OUT_OF_RANGE: End of sequence\n",
      "\t [[{{node IteratorGetNext}}]]\n"
     ]
    },
    {
     "name": "stdout",
     "output_type": "stream",
     "text": [
      "\u001b[1m129/132\u001b[0m \u001b[32m━━━━━━━━━━━━━━━━━━━\u001b[0m\u001b[37m━\u001b[0m \u001b[1m0s\u001b[0m 22ms/step - mean_absolute_error: 1228.7035 - loss: 5081.3223"
     ]
    },
    {
     "name": "stderr",
     "output_type": "stream",
     "text": [
      "2025-04-16 14:25:08.228230: W tensorflow/core/framework/local_rendezvous.cc:404] Local rendezvous is aborting with status: OUT_OF_RANGE: End of sequence\n",
      "\t [[{{node IteratorGetNext}}]]\n"
     ]
    },
    {
     "name": "stdout",
     "output_type": "stream",
     "text": [
      "\u001b[1m132/132\u001b[0m \u001b[32m━━━━━━━━━━━━━━━━━━━━\u001b[0m\u001b[37m\u001b[0m \u001b[1m3s\u001b[0m 24ms/step - mean_absolute_error: 1228.9369 - loss: 5084.5186 - val_loss: 5926.6748\n",
      "Epoch 24/25\n"
     ]
    },
    {
     "name": "stderr",
     "output_type": "stream",
     "text": [
      "2025-04-16 14:25:08.513533: W tensorflow/core/framework/local_rendezvous.cc:404] Local rendezvous is aborting with status: OUT_OF_RANGE: End of sequence\n",
      "\t [[{{node IteratorGetNext}}]]\n"
     ]
    },
    {
     "name": "stdout",
     "output_type": "stream",
     "text": [
      "\u001b[1m129/132\u001b[0m \u001b[32m━━━━━━━━━━━━━━━━━━━\u001b[0m\u001b[37m━\u001b[0m \u001b[1m0s\u001b[0m 13ms/step - mean_absolute_error: 1176.1461 - loss: 5143.0049"
     ]
    },
    {
     "name": "stderr",
     "output_type": "stream",
     "text": [
      "2025-04-16 14:25:10.587215: W tensorflow/core/framework/local_rendezvous.cc:404] Local rendezvous is aborting with status: OUT_OF_RANGE: End of sequence\n",
      "\t [[{{node IteratorGetNext}}]]\n"
     ]
    },
    {
     "name": "stdout",
     "output_type": "stream",
     "text": [
      "\u001b[1m132/132\u001b[0m \u001b[32m━━━━━━━━━━━━━━━━━━━━\u001b[0m\u001b[37m\u001b[0m \u001b[1m2s\u001b[0m 15ms/step - mean_absolute_error: 1173.7106 - loss: 5149.5020 - val_loss: 5949.4326\n",
      "Epoch 25/25\n"
     ]
    },
    {
     "name": "stderr",
     "output_type": "stream",
     "text": [
      "2025-04-16 14:25:10.814439: W tensorflow/core/framework/local_rendezvous.cc:404] Local rendezvous is aborting with status: OUT_OF_RANGE: End of sequence\n",
      "\t [[{{node IteratorGetNext}}]]\n"
     ]
    },
    {
     "name": "stdout",
     "output_type": "stream",
     "text": [
      "\u001b[1m130/132\u001b[0m \u001b[32m━━━━━━━━━━━━━━━━━━━\u001b[0m\u001b[37m━\u001b[0m \u001b[1m0s\u001b[0m 12ms/step - mean_absolute_error: 1017.2220 - loss: 5655.7524"
     ]
    },
    {
     "name": "stderr",
     "output_type": "stream",
     "text": [
      "2025-04-16 14:25:12.688899: W tensorflow/core/framework/local_rendezvous.cc:404] Local rendezvous is aborting with status: OUT_OF_RANGE: End of sequence\n",
      "\t [[{{node IteratorGetNext}}]]\n"
     ]
    },
    {
     "name": "stdout",
     "output_type": "stream",
     "text": [
      "\u001b[1m132/132\u001b[0m \u001b[32m━━━━━━━━━━━━━━━━━━━━\u001b[0m\u001b[37m\u001b[0m \u001b[1m2s\u001b[0m 14ms/step - mean_absolute_error: 1017.8345 - loss: 5651.7231 - val_loss: 6012.9878\n",
      "\u001b[1m19/19\u001b[0m \u001b[32m━━━━━━━━━━━━━━━━━━━━\u001b[0m\u001b[37m\u001b[0m \u001b[1m0s\u001b[0m 5ms/step - mean_absolute_error: 820.0985 - loss: 4822.5649\n"
     ]
    },
    {
     "name": "stderr",
     "output_type": "stream",
     "text": [
      "2025-04-16 14:25:12.926733: W tensorflow/core/framework/local_rendezvous.cc:404] Local rendezvous is aborting with status: OUT_OF_RANGE: End of sequence\n",
      "\t [[{{node IteratorGetNext}}]]\n",
      "2025-04-16 14:25:13.069901: W tensorflow/core/framework/local_rendezvous.cc:404] Local rendezvous is aborting with status: OUT_OF_RANGE: End of sequence\n",
      "\t [[{{node IteratorGetNext}}]]\n"
     ]
    },
    {
     "name": "stdout",
     "output_type": "stream",
     "text": [
      "Test Mean Absolute Error: {'mean_absolute_error': <tf.Tensor: shape=(), dtype=float32, numpy=813.6096>}\n",
      "Evaluating model on entire test dataset\n",
      "Processed 19 scenes with 161 total nodes\n",
      "\n",
      "===== Evaluation Metrics =====\n",
      "Mean Absolute Error (overall): 813.61\n",
      "Mean Absolute Error (x-coordinate): 861.34\n",
      "Mean Absolute Error (y-coordinate): 765.88\n",
      "Mean Euclidean Distance: 1278.27 units\n",
      "Median Euclidean Distance: 1070.49 units\n"
     ]
    },
    {
     "name": "stderr",
     "output_type": "stream",
     "text": [
      "2025-04-16 14:25:17.455824: W tensorflow/core/framework/local_rendezvous.cc:404] Local rendezvous is aborting with status: OUT_OF_RANGE: End of sequence\n"
     ]
    }
   ],
   "source": [
    "# Define hyper-parameters\n",
    "HIDDEN_UNITS = 100\n",
    "NUM_HEADS = 8\n",
    "NUM_LAYERS = 3\n",
    "OUTPUT_DIM = 2\n",
    "\n",
    "\n",
    "NUM_EPOCHS = 25\n",
    "BATCH_SIZE = 64\n",
    "LEARNING_RATE = 1e-5\n",
    "\n",
    "loss_fn = keras.losses.MeanAbsoluteError(name=\"mean_absolute_error\")\n",
    "optimizer = keras.optimizers.Adam(\n",
    "    learning_rate=LEARNING_RATE, \n",
    "    clipnorm=1.0,\n",
    "    epsilon=1e-8\n",
    ")\n",
    "accuracy_fn = keras.metrics.MeanAbsoluteError(name=\"mean_absolute_error\")\n",
    "\n",
    "# Build model\n",
    "gat_model = GraphAttentionNetwork(\n",
    "    hidden_units=HIDDEN_UNITS, num_heads=NUM_HEADS, num_layers=NUM_LAYERS, output_dim=OUTPUT_DIM\n",
    ")\n",
    "\n",
    "# Compile model\n",
    "gat_model.compile(loss=loss_fn, optimizer=optimizer, metrics=[accuracy_fn])\n",
    "\n",
    "# Train the model\n",
    "history = gat_model.fit(\n",
    "    train_dataset,\n",
    "    validation_data=val_dataset,\n",
    "    batch_size=BATCH_SIZE,\n",
    "    epochs=NUM_EPOCHS,\n",
    "    verbose=1,\n",
    ")\n",
    "\n",
    "# Evaluate on test set\n",
    "_, test_accuracy = gat_model.evaluate(x=test_dataset, verbose=1)\n",
    "print(f\"Test Mean Absolute Error: {test_accuracy}\")\n",
    "\n",
    "all_predictions = []\n",
    "all_ground_truth = []\n",
    "sample_count = 0\n",
    "\n",
    "print(\"Evaluating model on entire test dataset\")\n",
    "\n",
    "# Iterate through the test dataset\n",
    "for features, edges, targets in test_dataset:\n",
    "    # Make predictions for this graph\n",
    "    predictions = gat_model((features, edges), training=False)\n",
    "    \n",
    "    # Convert to numpy for easier handling\n",
    "    pred_np = predictions.numpy()\n",
    "    targets_np = targets.numpy()\n",
    "    \n",
    "    # Store predictions and ground truth\n",
    "    all_predictions.append(pred_np)\n",
    "    all_ground_truth.append(targets_np)\n",
    "    \n",
    "    # Count samples\n",
    "    sample_count += len(pred_np)\n",
    "\n",
    "print(f\"Processed {len(all_predictions)} scenes with {sample_count} total nodes\")\n",
    "\n",
    "# Concatenate all predictions and ground truth values\n",
    "all_pred_concat = np.concatenate(all_predictions)\n",
    "all_gt_concat = np.concatenate(all_ground_truth)\n",
    "\n",
    "# Calculate MAE for x and y coordinates separately\n",
    "mae_x = np.mean(np.abs(all_pred_concat[:, 0] - all_gt_concat[:, 0]))\n",
    "mae_y = np.mean(np.abs(all_pred_concat[:, 1] - all_gt_concat[:, 1]))\n",
    "\n",
    "# Calculate overall MAE\n",
    "mae = np.mean(np.abs(all_pred_concat - all_gt_concat))\n",
    "\n",
    "# Calculate Euclidean distance for each prediction\n",
    "euclidean_distances = np.sqrt(np.sum((all_pred_concat - all_gt_concat)**2, axis=1))\n",
    "mean_euclidean = np.mean(euclidean_distances)\n",
    "median_euclidean = np.median(euclidean_distances)\n",
    "\n",
    "print(\"\\n===== Evaluation Metrics =====\")\n",
    "print(f\"Mean Absolute Error (overall): {mae:.2f}\")\n",
    "print(f\"Mean Absolute Error (x-coordinate): {mae_x:.2f}\")\n",
    "print(f\"Mean Absolute Error (y-coordinate): {mae_y:.2f}\")\n",
    "print(f\"Mean Euclidean Distance: {mean_euclidean:.2f} units\")\n",
    "print(f\"Median Euclidean Distance: {median_euclidean:.2f} units\")"
   ]
  }
 ],
 "metadata": {
  "kernelspec": {
   "display_name": "Python 3",
   "language": "python",
   "name": "python3"
  },
  "language_info": {
   "codemirror_mode": {
    "name": "ipython",
    "version": 3
   },
   "file_extension": ".py",
   "mimetype": "text/x-python",
   "name": "python",
   "nbconvert_exporter": "python",
   "pygments_lexer": "ipython3",
   "version": "3.12.1"
  }
 },
 "nbformat": 4,
 "nbformat_minor": 5
}
